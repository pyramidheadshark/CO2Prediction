{
 "cells": [
  {
   "metadata": {},
   "cell_type": "code",
   "source": [
    "import datetime\n",
    "import pandas as pd\n",
    "from prophet import Prophet\n",
    "from prophet.plot import plot_plotly, plot_components_plotly"
   ],
   "id": "70bbc3eb20250e37",
   "outputs": [],
   "execution_count": null
  },
  {
   "metadata": {},
   "cell_type": "code",
   "source": [
    "data_original_path = 'public_data.csv'\n",
    "data_predicted_path = 'predicted_data.csv'"
   ],
   "id": "6df12790d55670ac",
   "outputs": [],
   "execution_count": null
  },
  {
   "metadata": {},
   "cell_type": "code",
   "source": [
    "df = pd.read_csv(\n",
    "    data_original_path\n",
    ")"
   ],
   "id": "56c809f76c40bb4",
   "outputs": [],
   "execution_count": null
  },
  {
   "metadata": {},
   "cell_type": "code",
   "source": "df = df[df.index > 800]",
   "id": "a12ba593a44ae6d0",
   "outputs": [],
   "execution_count": null
  },
  {
   "metadata": {},
   "cell_type": "code",
   "source": "df.info()",
   "id": "40aa4654eb812ae",
   "outputs": [],
   "execution_count": null
  },
  {
   "metadata": {},
   "cell_type": "code",
   "source": "df.dropna(inplace=True)",
   "id": "6744f05bc29b8074",
   "outputs": [],
   "execution_count": null
  },
  {
   "metadata": {},
   "cell_type": "code",
   "source": "df.info()",
   "id": "1152c9fb1b1cbea4",
   "outputs": [],
   "execution_count": null
  },
  {
   "metadata": {},
   "cell_type": "code",
   "source": "df.head(len(df))",
   "id": "cd2c3eb9430e5e6b",
   "outputs": [],
   "execution_count": null
  },
  {
   "metadata": {},
   "cell_type": "code",
   "source": [
    "def country_df(country_name, df):\n",
    "    ds_current = df['date']\n",
    "    y_current = df[country_name]\n",
    "    globals()['df_' + country_name] = pd.DataFrame({\n",
    "        'ds': ds_current, 'y': y_current\n",
    "    })\n",
    "    globals()['df_' + country_name]['ds'] = pd.to_datetime(globals()['df_' + country_name]['ds'])\n",
    "    globals()['df_' + country_name]['y'] = globals()['df_' + country_name]['y'].astype('float64')\n",
    "    print(f'df_{country_name} added')"
   ],
   "id": "d069378086a1a224",
   "outputs": [],
   "execution_count": null
  },
  {
   "metadata": {},
   "cell_type": "code",
   "source": [
    "def show_df_info(df):\n",
    "    df.plot(x='ds', y='y', figsize=(18, 6))"
   ],
   "id": "c0ef2a987b8f2fce",
   "outputs": [],
   "execution_count": null
  },
  {
   "metadata": {},
   "cell_type": "code",
   "source": "country_list = df.columns[1:]",
   "id": "5ce551ae8a89907a",
   "outputs": [],
   "execution_count": null
  },
  {
   "metadata": {},
   "cell_type": "code",
   "source": [
    "for country_name in country_list:\n",
    "    country_df(country_name, df)\n",
    "    show_df_info(globals()['df_' + country_name])"
   ],
   "id": "87f949ac5e28eeb3",
   "outputs": [],
   "execution_count": null
  },
  {
   "metadata": {},
   "cell_type": "code",
   "source": "m = Prophet()",
   "id": "9d17f2a82a74fedc",
   "outputs": [],
   "execution_count": null
  },
  {
   "metadata": {},
   "cell_type": "code",
   "source": [
    "def add_country_prophet(country_name):\n",
    "    globals()['m_' + country_name] = Prophet()\n",
    "    print(f'm_{country_name} Prophet added')"
   ],
   "id": "af4482109f61cf04",
   "outputs": [],
   "execution_count": null
  },
  {
   "metadata": {},
   "cell_type": "code",
   "source": [
    "for country_name in country_list:\n",
    "    add_country_prophet(country_name)"
   ],
   "id": "db6c071529d4cbe0",
   "outputs": [],
   "execution_count": null
  },
  {
   "metadata": {},
   "cell_type": "code",
   "source": [
    "def fit_n_train_prophet(df_local, country_name):\n",
    "    m = globals()['m_' + country_name]\n",
    "    m.add_seasonality(name='weekly', period=7, fourier_order=3)\n",
    "    m.add_seasonality(name='daily', period=1, fourier_order=3)\n",
    "    m.fit(df_local)\n",
    "\n",
    "    future = m.make_future_dataframe(periods=31)\n",
    "    forecast = m.predict(future)\n",
    "    # print(forecast.head(), forecast.tail(), sep='\\n')\n",
    "    # print('\\n\\n')\n",
    "    return forecast"
   ],
   "id": "75378a3542cd0819",
   "outputs": [],
   "execution_count": null
  },
  {
   "metadata": {},
   "cell_type": "code",
   "source": [
    "country_forecasts = {name: None for name in country_list}\n",
    "country_forecasts"
   ],
   "id": "4204323875ab726e",
   "outputs": [],
   "execution_count": null
  },
  {
   "metadata": {},
   "cell_type": "code",
   "source": [
    "for country_name in country_list:\n",
    "    current_df = globals()['df_' + country_name]\n",
    "    country_forecasts[country_name] = fit_n_train_prophet(current_df, country_name)"
   ],
   "id": "e81f4702b96785b0",
   "outputs": [],
   "execution_count": null
  },
  {
   "metadata": {},
   "cell_type": "code",
   "source": "country_forecasts['Brazil']",
   "id": "84c719041be25c29",
   "outputs": [],
   "execution_count": null
  },
  {
   "metadata": {},
   "cell_type": "code",
   "source": [
    "def create_graph(country_name):\n",
    "    m = globals()['m_' + country_name]\n",
    "    forecast = country_forecasts[country_name]\n",
    "    pl = plot_plotly(m, forecast)\n",
    "    pl.update_layout(title=f'{country_name} Forecast thingy')\n",
    "    return pl\n",
    "    "
   ],
   "id": "c2ec3cbabebb3233",
   "outputs": [],
   "execution_count": null
  },
  {
   "metadata": {},
   "cell_type": "code",
   "source": "country_forecasts_plots = {name: None for name in country_list}",
   "id": "6365489ebccd5e1b",
   "outputs": [],
   "execution_count": null
  },
  {
   "metadata": {},
   "cell_type": "code",
   "source": [
    "for country_name in country_list:\n",
    "    country_forecasts_plots[country_name] = create_graph(country_name)"
   ],
   "id": "9fcf85a17337b887",
   "outputs": [],
   "execution_count": null
  },
  {
   "metadata": {},
   "cell_type": "code",
   "source": "country_forecasts_plots['Brazil'].show()",
   "id": "9d99d1c124d5b5a8",
   "outputs": [],
   "execution_count": null
  },
  {
   "metadata": {},
   "cell_type": "code",
   "source": "country_forecasts_results = {name: None for name in country_list}",
   "id": "a5bbf5dda1777d27",
   "outputs": [],
   "execution_count": null
  },
  {
   "metadata": {},
   "cell_type": "code",
   "source": [
    "for country_name in country_list:\n",
    "    country_forecasts_results[country_name] = country_forecasts[country_name][['ds', 'yhat']]\n",
    "    country_forecasts_results[country_name] = country_forecasts_results[country_name][-31:].reset_index(drop=True)\n",
    "    country_forecasts_results[country_name] = country_forecasts_results[country_name].rename(columns={'yhat': 'y', 'ds': 'date'})"
   ],
   "id": "7d1c7092c79bfd5c",
   "outputs": [],
   "execution_count": null
  },
  {
   "metadata": {},
   "cell_type": "code",
   "source": "country_forecasts_results['Brazil'].info()",
   "id": "1d7edbe2e1fff478",
   "outputs": [],
   "execution_count": null
  },
  {
   "metadata": {},
   "cell_type": "code",
   "source": "country_forecasts_results['Brazil'].tail()",
   "id": "561651b4307d851a",
   "outputs": [],
   "execution_count": null
  },
  {
   "metadata": {},
   "cell_type": "code",
   "source": [
    "start_date = datetime.datetime(2023, 5, 1)\n",
    "end_date = datetime.datetime(2023, 5, 31)\n",
    "date_range = pd.date_range(start=start_date, end=end_date)"
   ],
   "id": "b2331137f9c35e4a",
   "outputs": [],
   "execution_count": null
  },
  {
   "metadata": {},
   "cell_type": "code",
   "source": "df_result = pd.DataFrame({'date': date_range})",
   "id": "205291d3398102e9",
   "outputs": [],
   "execution_count": null
  },
  {
   "metadata": {},
   "cell_type": "code",
   "source": [
    "for column in country_list:\n",
    "    df_result.insert(loc=0, column=column, value=None)\n",
    "df_result = df_result.loc[:, ::-1]"
   ],
   "id": "2a92b46191621d6a",
   "outputs": [],
   "execution_count": null
  },
  {
   "metadata": {},
   "cell_type": "code",
   "source": [
    "for country_name in country_list:\n",
    "    for i in range(len(country_forecasts_results[country_name])):\n",
    "        df_result[country_name][i] = country_forecasts_results[country_name]['y'][i]"
   ],
   "id": "b34808159156556",
   "outputs": [],
   "execution_count": null
  },
  {
   "metadata": {},
   "cell_type": "code",
   "source": "df_result",
   "id": "277e6a4c8b0cad53",
   "outputs": [],
   "execution_count": null
  },
  {
   "metadata": {},
   "cell_type": "code",
   "source": "country_forecasts_results['Brazil'].head()",
   "id": "6c6c09c9c9531b26",
   "outputs": [],
   "execution_count": null
  },
  {
   "metadata": {},
   "cell_type": "code",
   "source": "country_forecasts_plots['Brazil'].show()",
   "id": "e3d5f7d2f1af1a1f",
   "outputs": [],
   "execution_count": null
  },
  {
   "metadata": {},
   "cell_type": "code",
   "source": "df_result.to_csv(data_predicted_path, index=False)",
   "id": "69d4dfb92887646b",
   "outputs": [],
   "execution_count": null
  },
  {
   "metadata": {},
   "cell_type": "code",
   "source": "",
   "id": "b788a2a5d685fd31",
   "outputs": [],
   "execution_count": null
  }
 ],
 "metadata": {
  "kernelspec": {
   "display_name": "Python 3",
   "language": "python",
   "name": "python3"
  },
  "language_info": {
   "codemirror_mode": {
    "name": "ipython",
    "version": 2
   },
   "file_extension": ".py",
   "mimetype": "text/x-python",
   "name": "python",
   "nbconvert_exporter": "python",
   "pygments_lexer": "ipython2",
   "version": "2.7.6"
  }
 },
 "nbformat": 4,
 "nbformat_minor": 5
}
